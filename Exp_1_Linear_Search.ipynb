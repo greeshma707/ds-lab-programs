{
  "nbformat": 4,
  "nbformat_minor": 0,
  "metadata": {
    "colab": {
      "provenance": [],
      "include_colab_link": true
    },
    "kernelspec": {
      "name": "python3",
      "display_name": "Python 3"
    },
    "language_info": {
      "name": "python"
    }
  },
  "cells": [
    {
      "cell_type": "markdown",
      "metadata": {
        "id": "view-in-github",
        "colab_type": "text"
      },
      "source": [
        "<a href=\"https://colab.research.google.com/github/greeshma707/ds-lab-programs/blob/main/Exp_1_Linear_Search.ipynb\" target=\"_parent\"><img src=\"https://colab.research.google.com/assets/colab-badge.svg\" alt=\"Open In Colab\"/></a>"
      ]
    },
    {
      "cell_type": "code",
      "execution_count": null,
      "metadata": {
        "colab": {
          "base_uri": "https://localhost:8080/"
        },
        "id": "iUi5R4GHpf7I",
        "outputId": "4ea6aa23-3b41-4be2-e7a7-c51df0504ec2"
      },
      "outputs": [
        {
          "output_type": "stream",
          "name": "stdout",
          "text": [
            "Enter the list:[2,5,7,3,9,10,-3]\n",
            "Enter element to search:9\n",
            "FOUND at position 5\n"
          ]
        }
      ],
      "source": [
        "#linear search\n",
        "def linear_search(l,e):\n",
        "    flag=0\n",
        "    for i in range(len(l)):\n",
        "        if l[i]==e:\n",
        "            print(\"FOUND at position\",i+1)\n",
        "            flag=1\n",
        "    if flag==0:\n",
        "        print(\"NOT FOUND\")\n",
        "       \n",
        "l=eval(input(\"Enter the list:\"))\n",
        "e=eval(input(\"Enter element to search:\"))\n",
        "linear_search(l,e)"
      ]
    }
  ]
}