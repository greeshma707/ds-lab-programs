{
  "nbformat": 4,
  "nbformat_minor": 0,
  "metadata": {
    "colab": {
      "provenance": [],
      "authorship_tag": "ABX9TyOgTCBdBPfvxPM/CjSU364q",
      "include_colab_link": true
    },
    "kernelspec": {
      "name": "python3",
      "display_name": "Python 3"
    },
    "language_info": {
      "name": "python"
    }
  },
  "cells": [
    {
      "cell_type": "markdown",
      "metadata": {
        "id": "view-in-github",
        "colab_type": "text"
      },
      "source": [
        "<a href=\"https://colab.research.google.com/github/greeshma707/ds-lab-programs/blob/main/insertion_%2C_selection%2C_bubble%2C_merge.ipynb\" target=\"_parent\"><img src=\"https://colab.research.google.com/assets/colab-badge.svg\" alt=\"Open In Colab\"/></a>"
      ]
    },
    {
      "cell_type": "code",
      "execution_count": null,
      "metadata": {
        "colab": {
          "base_uri": "https://localhost:8080/"
        },
        "id": "4AhcqqOcCf0n",
        "outputId": "e47efbf1-b764-4d27-c2ec-7dab34518edf"
      },
      "outputs": [
        {
          "output_type": "stream",
          "name": "stdout",
          "text": [
            "Sorted array is : \n",
            "[5, 6, 11, 12, 13]\n"
          ]
        }
      ],
      "source": [
        "def insertionSort(arr):\n",
        "    for i in range(1, len(arr)):\n",
        "        key = arr[i]\n",
        "        j = i-1\n",
        "        while j >=0 and key < arr[j] :\n",
        "                arr[j+1] = arr[j]\n",
        "                j -= 1\n",
        "        arr[j+1] = key\n",
        "arr = [12, 11, 13, 5, 6]\n",
        "insertionSort(arr)\n",
        "lst = []\n",
        "print(\"Sorted array is : \")\n",
        "for i in range(len(arr)):\n",
        "    lst.append(arr[i])     \n",
        "print(lst)"
      ]
    },
    {
      "cell_type": "code",
      "source": [
        "def selectionSort(array, size):\n",
        "    for ind in range(size):\n",
        "        min_index = ind\n",
        "        for j in range(ind + 1, size):\n",
        "            if array[j] < array[min_index]:\n",
        "                min_index = j\n",
        "        (array[ind], array[min_index]) = (array[min_index], array[ind])\n",
        "arr = [-2, 45, 0, 11, -9,88,-97,-202,747]\n",
        "size = len(arr)\n",
        "selectionSort(arr, size)\n",
        "print('The array after sorting in Ascending Order by selection sort is:')\n",
        "print(arr)"
      ],
      "metadata": {
        "colab": {
          "base_uri": "https://localhost:8080/"
        },
        "id": "CyZ28DpJHRfY",
        "outputId": "9a97dccb-2309-4abc-f6e2-a01f9ee77a79"
      },
      "execution_count": null,
      "outputs": [
        {
          "output_type": "stream",
          "name": "stdout",
          "text": [
            "The array after sorting in Ascending Order by selection sort is:\n",
            "[-202, -97, -9, -2, 0, 11, 45, 88, 747]\n"
          ]
        }
      ]
    },
    {
      "cell_type": "code",
      "source": [
        "def bubbleSort(arr):\n",
        "    n = len(arr)\n",
        "    swapped = False\n",
        "    for i in range(n-1):\n",
        "        for j in range(0, n-i-1):\n",
        "            if arr[j] > arr[j + 1]:\n",
        "                swapped = True\n",
        "                arr[j], arr[j + 1] = arr[j + 1], arr[j]\n",
        "        if not swapped:\n",
        "            return\n",
        "arr = [64, 34, 25, 12, 22, 11, 90]\n",
        "bubbleSort(arr)\n",
        "print(\"Sorted array is:\")\n",
        "for i in range(len(arr)):\n",
        "    print(\"% d\" % arr[i], end=\" \")"
      ],
      "metadata": {
        "colab": {
          "base_uri": "https://localhost:8080/"
        },
        "id": "41ZcUtcRV2ic",
        "outputId": "e616304f-33c5-4279-d96d-b9fafea0fa5a"
      },
      "execution_count": null,
      "outputs": [
        {
          "output_type": "stream",
          "name": "stdout",
          "text": [
            "Sorted array is:\n",
            " 11  12  22  25  34  64  90 "
          ]
        }
      ]
    },
    {
      "cell_type": "code",
      "source": [
        "def merge(arr, l, m, r):\n",
        "    n1 = m - l + 1\n",
        "    n2 = r - m\n",
        "    L = [0] * (n1)\n",
        "    R = [0] * (n2)\n",
        "    for i in range(0, n1):\n",
        "        L[i] = arr[l + i]\n",
        " \n",
        "    for j in range(0, n2):\n",
        "        R[j] = arr[m + 1 + j]\n",
        "    i = 0     \n",
        "    j = 0     \n",
        "    k = l     \n",
        " \n",
        "    while i < n1 and j < n2:\n",
        "        if L[i] <= R[j]:\n",
        "            arr[k] = L[i]\n",
        "            i += 1\n",
        "        else:\n",
        "            arr[k] = R[j]\n",
        "            j += 1\n",
        "        k += 1\n",
        "    while i < n1:\n",
        "        arr[k] = L[i]\n",
        "        i += 1\n",
        "        k += 1\n",
        "    while j < n2:\n",
        "        arr[k] = R[j]\n",
        "        j += 1\n",
        "        k += 1\n",
        "def mergeSort(arr, l, r):\n",
        "    if l < r:\n",
        "        m = l+(r-l)//2\n",
        "        mergeSort(arr, l, m)\n",
        "        mergeSort(arr, m+1, r)\n",
        "        merge(arr, l, m, r)\n",
        "arr = [12, 11, 13, 5, 6, 7]\n",
        "n = len(arr)\n",
        "print(\"Given array is\")\n",
        "for i in range(n):\n",
        "    print(\"%d\" % arr[i],end=\" \")\n",
        " \n",
        "mergeSort(arr, 0, n-1)\n",
        "print(\"\\n\\nSorted array is\")\n",
        "for i in range(n):\n",
        "    print(\"%d\" % arr[i],end=\" \")"
      ],
      "metadata": {
        "colab": {
          "base_uri": "https://localhost:8080/"
        },
        "id": "X4TsfVsRW6at",
        "outputId": "e98ade6a-1c27-49f4-a6a6-8f96deb9aa46"
      },
      "execution_count": null,
      "outputs": [
        {
          "output_type": "stream",
          "name": "stdout",
          "text": [
            "Given array is\n",
            "12 11 13 5 6 7 \n",
            "\n",
            "Sorted array is\n",
            "5 6 7 11 12 13 "
          ]
        }
      ]
    },
    {
      "cell_type": "code",
      "source": [
        "x = (i for i in range(3))\n",
        "for i in x:\n",
        "    print(i)"
      ],
      "metadata": {
        "id": "savFm6gIYGsh",
        "outputId": "fcb8379f-a799-4362-fd8b-2cc0af6896d0",
        "colab": {
          "base_uri": "https://localhost:8080/"
        }
      },
      "execution_count": null,
      "outputs": [
        {
          "output_type": "stream",
          "name": "stdout",
          "text": [
            "0\n",
            "1\n",
            "2\n"
          ]
        }
      ]
    }
  ]
}